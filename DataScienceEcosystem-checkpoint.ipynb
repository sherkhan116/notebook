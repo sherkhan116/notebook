{
 "cells": [
  {
   "cell_type": "markdown",
   "id": "839e3e85",
   "metadata": {},
   "source": [
    "# Data Science Tools and Ecosystem"
   ]
  },
  {
   "cell_type": "markdown",
   "id": "a7a9cb89",
   "metadata": {},
   "source": [
    "### In this notebook, Data Science Tools and Ecosystem are summarized."
   ]
  },
  {
   "cell_type": "markdown",
   "id": "7569ced6",
   "metadata": {},
   "source": [
    "<b>Objectives:\n",
    "* Markdowns\n",
    "* Languages of Data Science\n",
    "* libraries used in dataScience\n",
    "### Author <br>\n",
    "    Ismail"
   ]
  },
  {
   "cell_type": "markdown",
   "id": "6bd56a30",
   "metadata": {},
   "source": [
    "### Some of the popular languages that Data Scientists use are:\n",
    "1. Python\n",
    "2. R\n",
    "3. java"
   ]
  },
  {
   "cell_type": "markdown",
   "id": "a2304fe6",
   "metadata": {},
   "source": [
    "### Some of the commonly used libraries used by Data Scientists include:\n",
    "1. Scikit learn\n",
    "2. Tensorflow\n",
    "3. Pytorch"
   ]
  },
  {
   "cell_type": "markdown",
   "id": "602e3c34",
   "metadata": {},
   "source": [
    "| Data Science Tools |\n",
    "| :-----------------:|\n",
    "|   Jupyter Notebook |\n",
    "|    RStudio         |\n",
    "|   Spyder           |"
   ]
  },
  {
   "cell_type": "markdown",
   "id": "4e518831",
   "metadata": {},
   "source": [
    "### Below are a few examples of evaluating arithmetic expressions in Python"
   ]
  },
  {
   "cell_type": "code",
   "execution_count": 1,
   "id": "c9998e8d",
   "metadata": {},
   "outputs": [
    {
     "data": {
      "text/plain": [
       "17"
      ]
     },
     "execution_count": 1,
     "metadata": {},
     "output_type": "execute_result"
    }
   ],
   "source": [
    "# This a simple rithmetic expression to multiply and then add integers\n",
    "(3*4) + 5"
   ]
  },
  {
   "cell_type": "code",
   "execution_count": 2,
   "id": "ab7b4006",
   "metadata": {},
   "outputs": [
    {
     "data": {
      "text/plain": [
       "3.3333333333333335"
      ]
     },
     "execution_count": 2,
     "metadata": {},
     "output_type": "execute_result"
    }
   ],
   "source": [
    "#  This will convert 200 minutes to hours by diving by 60\n",
    "200 / 60"
   ]
  },
  {
   "cell_type": "code",
   "execution_count": null,
   "id": "d8c93251",
   "metadata": {},
   "outputs": [],
   "source": []
  }
 ],
 "metadata": {
  "kernelspec": {
   "display_name": "Python 3 (ipykernel)",
   "language": "python",
   "name": "python3"
  },
  "language_info": {
   "codemirror_mode": {
    "name": "ipython",
    "version": 3
   },
   "file_extension": ".py",
   "mimetype": "text/x-python",
   "name": "python",
   "nbconvert_exporter": "python",
   "pygments_lexer": "ipython3",
   "version": "3.10.9"
  }
 },
 "nbformat": 4,
 "nbformat_minor": 5
}
